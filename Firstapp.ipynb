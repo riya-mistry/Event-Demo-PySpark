{
  "cells": [
    {
      "metadata": {
        "trusted": true
      },
      "cell_type": "code",
      "source": "from pyspark import SparkContext\n#sc = SparkContext()\nprint(sc)\nprint(sc.version)",
      "execution_count": 5,
      "outputs": [
        {
          "output_type": "stream",
          "text": "<SparkContext master=local[*] appName=pyspark-shell>\n2.4.4\n",
          "name": "stdout"
        }
      ]
    },
    {
      "metadata": {
        "trusted": true
      },
      "cell_type": "code",
      "source": "from pyspark.sql import SparkSession\nmy_spark = SparkSession.builder.getOrCreate()\nprint(my_spark)",
      "execution_count": 6,
      "outputs": [
        {
          "output_type": "stream",
          "text": "<pyspark.sql.session.SparkSession object at 0x7f581379b860>\n",
          "name": "stdout"
        }
      ]
    },
    {
      "metadata": {
        "trusted": true
      },
      "cell_type": "code",
      "source": "my_spark.catalog.listTables()",
      "execution_count": 7,
      "outputs": [
        {
          "output_type": "execute_result",
          "execution_count": 7,
          "data": {
            "text/plain": "[]"
          },
          "metadata": {}
        }
      ]
    },
    {
      "metadata": {
        "trusted": true
      },
      "cell_type": "code",
      "source": "import pandas as pd\nimport numpy as np\n# Create pd_temp\npd_temp = pd.DataFrame(np.random.random(10))\n\n# Create spark_temp from pd_temp\nspark_temp = my_spark.createDataFrame(pd_temp)\n\n# Examine the tables in the catalog\nprint(my_spark.catalog.listTables())\n\n# Add spark_temp to the catalog\nspark_temp.createOrReplaceTempView('temp')\n\n# Examine the tables in the catalog again\nprint(my_spark.catalog.listTables())",
      "execution_count": 9,
      "outputs": [
        {
          "output_type": "stream",
          "text": "[]\n[Table(name='temp', database=None, description=None, tableType='TEMPORARY', isTemporary=True)]\n",
          "name": "stdout"
        }
      ]
    },
    {
      "metadata": {
        "trusted": true
      },
      "cell_type": "code",
      "source": "\n# Don't change this file path\nfile_path = \"covid_19_data.csv\"\n\n# Read in the corona data\ncorona = my_spark.read.csv(file_path,header=True)\n\n# Show the data\nprint(corona.show())",
      "execution_count": 11,
      "outputs": [
        {
          "output_type": "stream",
          "text": "+---+---------------+--------------+--------------+---------------+---------+------+---------+\n|SNo|ObservationDate|Province/State|Country/Region|    Last Update|Confirmed|Deaths|Recovered|\n+---+---------------+--------------+--------------+---------------+---------+------+---------+\n|  1|     01/22/2020|         Anhui|Mainland China|1/22/2020 17:00|      1.0|   0.0|      0.0|\n|  2|     01/22/2020|       Beijing|Mainland China|1/22/2020 17:00|     14.0|   0.0|      0.0|\n|  3|     01/22/2020|     Chongqing|Mainland China|1/22/2020 17:00|      6.0|   0.0|      0.0|\n|  4|     01/22/2020|        Fujian|Mainland China|1/22/2020 17:00|      1.0|   0.0|      0.0|\n|  5|     01/22/2020|         Gansu|Mainland China|1/22/2020 17:00|      0.0|   0.0|      0.0|\n|  6|     01/22/2020|     Guangdong|Mainland China|1/22/2020 17:00|     26.0|   0.0|      0.0|\n|  7|     01/22/2020|       Guangxi|Mainland China|1/22/2020 17:00|      2.0|   0.0|      0.0|\n|  8|     01/22/2020|       Guizhou|Mainland China|1/22/2020 17:00|      1.0|   0.0|      0.0|\n|  9|     01/22/2020|        Hainan|Mainland China|1/22/2020 17:00|      4.0|   0.0|      0.0|\n| 10|     01/22/2020|         Hebei|Mainland China|1/22/2020 17:00|      1.0|   0.0|      0.0|\n| 11|     01/22/2020|  Heilongjiang|Mainland China|1/22/2020 17:00|      0.0|   0.0|      0.0|\n| 12|     01/22/2020|         Henan|Mainland China|1/22/2020 17:00|      5.0|   0.0|      0.0|\n| 13|     01/22/2020|     Hong Kong|     Hong Kong|1/22/2020 17:00|      0.0|   0.0|      0.0|\n| 14|     01/22/2020|         Hubei|Mainland China|1/22/2020 17:00|    444.0|  17.0|     28.0|\n| 15|     01/22/2020|         Hunan|Mainland China|1/22/2020 17:00|      4.0|   0.0|      0.0|\n| 16|     01/22/2020|Inner Mongolia|Mainland China|1/22/2020 17:00|      0.0|   0.0|      0.0|\n| 17|     01/22/2020|       Jiangsu|Mainland China|1/22/2020 17:00|      1.0|   0.0|      0.0|\n| 18|     01/22/2020|       Jiangxi|Mainland China|1/22/2020 17:00|      2.0|   0.0|      0.0|\n| 19|     01/22/2020|         Jilin|Mainland China|1/22/2020 17:00|      0.0|   0.0|      0.0|\n| 20|     01/22/2020|      Liaoning|Mainland China|1/22/2020 17:00|      2.0|   0.0|      0.0|\n+---+---------------+--------------+--------------+---------------+---------+------+---------+\nonly showing top 20 rows\n\nNone\n",
          "name": "stdout"
        }
      ]
    },
    {
      "metadata": {
        "trusted": true
      },
      "cell_type": "code",
      "source": "print(my_spark.catalog.listTables())",
      "execution_count": 12,
      "outputs": [
        {
          "output_type": "stream",
          "text": "[Table(name='temp', database=None, description=None, tableType='TEMPORARY', isTemporary=True)]\n",
          "name": "stdout"
        }
      ]
    },
    {
      "metadata": {
        "trusted": true
      },
      "cell_type": "code",
      "source": "corona.createOrReplaceTempView('Corona')",
      "execution_count": 13,
      "outputs": []
    },
    {
      "metadata": {
        "trusted": true
      },
      "cell_type": "code",
      "source": "print(my_spark.catalog.listTables())",
      "execution_count": 14,
      "outputs": [
        {
          "output_type": "stream",
          "text": "[Table(name='corona', database=None, description=None, tableType='TEMPORARY', isTemporary=True), Table(name='temp', database=None, description=None, tableType='TEMPORARY', isTemporary=True)]\n",
          "name": "stdout"
        }
      ]
    },
    {
      "metadata": {
        "trusted": true
      },
      "cell_type": "code",
      "source": "# Create the DataFrame flights\nc = my_spark.table('corona')\n\n# Show the head\nc.show()\n\n# Add duration_hrs\nc = c.withColumn('total',c.Confirmed+c.Deaths+ c.Recovered)\nprint(c.show())",
      "execution_count": 16,
      "outputs": [
        {
          "output_type": "stream",
          "text": "+---+---------------+--------------+--------------+---------------+---------+------+---------+\n|SNo|ObservationDate|Province/State|Country/Region|    Last Update|Confirmed|Deaths|Recovered|\n+---+---------------+--------------+--------------+---------------+---------+------+---------+\n|  1|     01/22/2020|         Anhui|Mainland China|1/22/2020 17:00|      1.0|   0.0|      0.0|\n|  2|     01/22/2020|       Beijing|Mainland China|1/22/2020 17:00|     14.0|   0.0|      0.0|\n|  3|     01/22/2020|     Chongqing|Mainland China|1/22/2020 17:00|      6.0|   0.0|      0.0|\n|  4|     01/22/2020|        Fujian|Mainland China|1/22/2020 17:00|      1.0|   0.0|      0.0|\n|  5|     01/22/2020|         Gansu|Mainland China|1/22/2020 17:00|      0.0|   0.0|      0.0|\n|  6|     01/22/2020|     Guangdong|Mainland China|1/22/2020 17:00|     26.0|   0.0|      0.0|\n|  7|     01/22/2020|       Guangxi|Mainland China|1/22/2020 17:00|      2.0|   0.0|      0.0|\n|  8|     01/22/2020|       Guizhou|Mainland China|1/22/2020 17:00|      1.0|   0.0|      0.0|\n|  9|     01/22/2020|        Hainan|Mainland China|1/22/2020 17:00|      4.0|   0.0|      0.0|\n| 10|     01/22/2020|         Hebei|Mainland China|1/22/2020 17:00|      1.0|   0.0|      0.0|\n| 11|     01/22/2020|  Heilongjiang|Mainland China|1/22/2020 17:00|      0.0|   0.0|      0.0|\n| 12|     01/22/2020|         Henan|Mainland China|1/22/2020 17:00|      5.0|   0.0|      0.0|\n| 13|     01/22/2020|     Hong Kong|     Hong Kong|1/22/2020 17:00|      0.0|   0.0|      0.0|\n| 14|     01/22/2020|         Hubei|Mainland China|1/22/2020 17:00|    444.0|  17.0|     28.0|\n| 15|     01/22/2020|         Hunan|Mainland China|1/22/2020 17:00|      4.0|   0.0|      0.0|\n| 16|     01/22/2020|Inner Mongolia|Mainland China|1/22/2020 17:00|      0.0|   0.0|      0.0|\n| 17|     01/22/2020|       Jiangsu|Mainland China|1/22/2020 17:00|      1.0|   0.0|      0.0|\n| 18|     01/22/2020|       Jiangxi|Mainland China|1/22/2020 17:00|      2.0|   0.0|      0.0|\n| 19|     01/22/2020|         Jilin|Mainland China|1/22/2020 17:00|      0.0|   0.0|      0.0|\n| 20|     01/22/2020|      Liaoning|Mainland China|1/22/2020 17:00|      2.0|   0.0|      0.0|\n+---+---------------+--------------+--------------+---------------+---------+------+---------+\nonly showing top 20 rows\n\n+---+---------------+--------------+--------------+---------------+---------+------+---------+-----+\n|SNo|ObservationDate|Province/State|Country/Region|    Last Update|Confirmed|Deaths|Recovered|total|\n+---+---------------+--------------+--------------+---------------+---------+------+---------+-----+\n|  1|     01/22/2020|         Anhui|Mainland China|1/22/2020 17:00|      1.0|   0.0|      0.0|  1.0|\n|  2|     01/22/2020|       Beijing|Mainland China|1/22/2020 17:00|     14.0|   0.0|      0.0| 14.0|\n|  3|     01/22/2020|     Chongqing|Mainland China|1/22/2020 17:00|      6.0|   0.0|      0.0|  6.0|\n|  4|     01/22/2020|        Fujian|Mainland China|1/22/2020 17:00|      1.0|   0.0|      0.0|  1.0|\n|  5|     01/22/2020|         Gansu|Mainland China|1/22/2020 17:00|      0.0|   0.0|      0.0|  0.0|\n|  6|     01/22/2020|     Guangdong|Mainland China|1/22/2020 17:00|     26.0|   0.0|      0.0| 26.0|\n|  7|     01/22/2020|       Guangxi|Mainland China|1/22/2020 17:00|      2.0|   0.0|      0.0|  2.0|\n|  8|     01/22/2020|       Guizhou|Mainland China|1/22/2020 17:00|      1.0|   0.0|      0.0|  1.0|\n|  9|     01/22/2020|        Hainan|Mainland China|1/22/2020 17:00|      4.0|   0.0|      0.0|  4.0|\n| 10|     01/22/2020|         Hebei|Mainland China|1/22/2020 17:00|      1.0|   0.0|      0.0|  1.0|\n| 11|     01/22/2020|  Heilongjiang|Mainland China|1/22/2020 17:00|      0.0|   0.0|      0.0|  0.0|\n| 12|     01/22/2020|         Henan|Mainland China|1/22/2020 17:00|      5.0|   0.0|      0.0|  5.0|\n| 13|     01/22/2020|     Hong Kong|     Hong Kong|1/22/2020 17:00|      0.0|   0.0|      0.0|  0.0|\n| 14|     01/22/2020|         Hubei|Mainland China|1/22/2020 17:00|    444.0|  17.0|     28.0|489.0|\n| 15|     01/22/2020|         Hunan|Mainland China|1/22/2020 17:00|      4.0|   0.0|      0.0|  4.0|\n| 16|     01/22/2020|Inner Mongolia|Mainland China|1/22/2020 17:00|      0.0|   0.0|      0.0|  0.0|\n| 17|     01/22/2020|       Jiangsu|Mainland China|1/22/2020 17:00|      1.0|   0.0|      0.0|  1.0|\n| 18|     01/22/2020|       Jiangxi|Mainland China|1/22/2020 17:00|      2.0|   0.0|      0.0|  2.0|\n| 19|     01/22/2020|         Jilin|Mainland China|1/22/2020 17:00|      0.0|   0.0|      0.0|  0.0|\n| 20|     01/22/2020|      Liaoning|Mainland China|1/22/2020 17:00|      2.0|   0.0|      0.0|  2.0|\n+---+---------------+--------------+--------------+---------------+---------+------+---------+-----+\nonly showing top 20 rows\n\nNone\n",
          "name": "stdout"
        }
      ]
    },
    {
      "metadata": {
        "trusted": true
      },
      "cell_type": "code",
      "source": "c.filter('total>0').show()",
      "execution_count": 17,
      "outputs": [
        {
          "output_type": "stream",
          "text": "+---+---------------+--------------+--------------+---------------+---------+------+---------+-----+\n|SNo|ObservationDate|Province/State|Country/Region|    Last Update|Confirmed|Deaths|Recovered|total|\n+---+---------------+--------------+--------------+---------------+---------+------+---------+-----+\n|  1|     01/22/2020|         Anhui|Mainland China|1/22/2020 17:00|      1.0|   0.0|      0.0|  1.0|\n|  2|     01/22/2020|       Beijing|Mainland China|1/22/2020 17:00|     14.0|   0.0|      0.0| 14.0|\n|  3|     01/22/2020|     Chongqing|Mainland China|1/22/2020 17:00|      6.0|   0.0|      0.0|  6.0|\n|  4|     01/22/2020|        Fujian|Mainland China|1/22/2020 17:00|      1.0|   0.0|      0.0|  1.0|\n|  6|     01/22/2020|     Guangdong|Mainland China|1/22/2020 17:00|     26.0|   0.0|      0.0| 26.0|\n|  7|     01/22/2020|       Guangxi|Mainland China|1/22/2020 17:00|      2.0|   0.0|      0.0|  2.0|\n|  8|     01/22/2020|       Guizhou|Mainland China|1/22/2020 17:00|      1.0|   0.0|      0.0|  1.0|\n|  9|     01/22/2020|        Hainan|Mainland China|1/22/2020 17:00|      4.0|   0.0|      0.0|  4.0|\n| 10|     01/22/2020|         Hebei|Mainland China|1/22/2020 17:00|      1.0|   0.0|      0.0|  1.0|\n| 12|     01/22/2020|         Henan|Mainland China|1/22/2020 17:00|      5.0|   0.0|      0.0|  5.0|\n| 14|     01/22/2020|         Hubei|Mainland China|1/22/2020 17:00|    444.0|  17.0|     28.0|489.0|\n| 15|     01/22/2020|         Hunan|Mainland China|1/22/2020 17:00|      4.0|   0.0|      0.0|  4.0|\n| 17|     01/22/2020|       Jiangsu|Mainland China|1/22/2020 17:00|      1.0|   0.0|      0.0|  1.0|\n| 18|     01/22/2020|       Jiangxi|Mainland China|1/22/2020 17:00|      2.0|   0.0|      0.0|  2.0|\n| 20|     01/22/2020|      Liaoning|Mainland China|1/22/2020 17:00|      2.0|   0.0|      0.0|  2.0|\n| 21|     01/22/2020|         Macau|         Macau|1/22/2020 17:00|      1.0|   0.0|      0.0|  1.0|\n| 22|     01/22/2020|       Ningxia|Mainland China|1/22/2020 17:00|      1.0|   0.0|      0.0|  1.0|\n| 25|     01/22/2020|      Shandong|Mainland China|1/22/2020 17:00|      2.0|   0.0|      0.0|  2.0|\n| 26|     01/22/2020|      Shanghai|Mainland China|1/22/2020 17:00|      9.0|   0.0|      0.0|  9.0|\n| 27|     01/22/2020|        Shanxi|Mainland China|1/22/2020 17:00|      1.0|   0.0|      0.0|  1.0|\n+---+---------------+--------------+--------------+---------------+---------+------+---------+-----+\nonly showing top 20 rows\n\n",
          "name": "stdout"
        }
      ]
    },
    {
      "metadata": {
        "trusted": true
      },
      "cell_type": "code",
      "source": "c.filter(c.total>0).show()",
      "execution_count": 18,
      "outputs": [
        {
          "output_type": "stream",
          "text": "+---+---------------+--------------+--------------+---------------+---------+------+---------+-----+\n|SNo|ObservationDate|Province/State|Country/Region|    Last Update|Confirmed|Deaths|Recovered|total|\n+---+---------------+--------------+--------------+---------------+---------+------+---------+-----+\n|  1|     01/22/2020|         Anhui|Mainland China|1/22/2020 17:00|      1.0|   0.0|      0.0|  1.0|\n|  2|     01/22/2020|       Beijing|Mainland China|1/22/2020 17:00|     14.0|   0.0|      0.0| 14.0|\n|  3|     01/22/2020|     Chongqing|Mainland China|1/22/2020 17:00|      6.0|   0.0|      0.0|  6.0|\n|  4|     01/22/2020|        Fujian|Mainland China|1/22/2020 17:00|      1.0|   0.0|      0.0|  1.0|\n|  6|     01/22/2020|     Guangdong|Mainland China|1/22/2020 17:00|     26.0|   0.0|      0.0| 26.0|\n|  7|     01/22/2020|       Guangxi|Mainland China|1/22/2020 17:00|      2.0|   0.0|      0.0|  2.0|\n|  8|     01/22/2020|       Guizhou|Mainland China|1/22/2020 17:00|      1.0|   0.0|      0.0|  1.0|\n|  9|     01/22/2020|        Hainan|Mainland China|1/22/2020 17:00|      4.0|   0.0|      0.0|  4.0|\n| 10|     01/22/2020|         Hebei|Mainland China|1/22/2020 17:00|      1.0|   0.0|      0.0|  1.0|\n| 12|     01/22/2020|         Henan|Mainland China|1/22/2020 17:00|      5.0|   0.0|      0.0|  5.0|\n| 14|     01/22/2020|         Hubei|Mainland China|1/22/2020 17:00|    444.0|  17.0|     28.0|489.0|\n| 15|     01/22/2020|         Hunan|Mainland China|1/22/2020 17:00|      4.0|   0.0|      0.0|  4.0|\n| 17|     01/22/2020|       Jiangsu|Mainland China|1/22/2020 17:00|      1.0|   0.0|      0.0|  1.0|\n| 18|     01/22/2020|       Jiangxi|Mainland China|1/22/2020 17:00|      2.0|   0.0|      0.0|  2.0|\n| 20|     01/22/2020|      Liaoning|Mainland China|1/22/2020 17:00|      2.0|   0.0|      0.0|  2.0|\n| 21|     01/22/2020|         Macau|         Macau|1/22/2020 17:00|      1.0|   0.0|      0.0|  1.0|\n| 22|     01/22/2020|       Ningxia|Mainland China|1/22/2020 17:00|      1.0|   0.0|      0.0|  1.0|\n| 25|     01/22/2020|      Shandong|Mainland China|1/22/2020 17:00|      2.0|   0.0|      0.0|  2.0|\n| 26|     01/22/2020|      Shanghai|Mainland China|1/22/2020 17:00|      9.0|   0.0|      0.0|  9.0|\n| 27|     01/22/2020|        Shanxi|Mainland China|1/22/2020 17:00|      1.0|   0.0|      0.0|  1.0|\n+---+---------------+--------------+--------------+---------------+---------+------+---------+-----+\nonly showing top 20 rows\n\n",
          "name": "stdout"
        }
      ]
    },
    {
      "metadata": {
        "trusted": true
      },
      "cell_type": "code",
      "source": "filter1 = c['Country/Region'] == 'India'\nfilter2 = c.Deaths >0\nx = c.select('Province/State','Deaths')\nx.filter(filter1).filter(filter2).show()",
      "execution_count": 30,
      "outputs": [
        {
          "output_type": "stream",
          "text": "+--------------+------+\n|Province/State|Deaths|\n+--------------+------+\n|          null|   1.0|\n|          null|   1.0|\n|          null|   2.0|\n|          null|   2.0|\n|          null|   2.0|\n|          null|   2.0|\n|          null|   3.0|\n|          null|   3.0|\n|          null|   4.0|\n|          null|   5.0|\n|          null|   4.0|\n|          null|   7.0|\n|          null|  10.0|\n|          null|  10.0|\n|          null|  12.0|\n|          null|  20.0|\n|          null|  20.0|\n|          null|  24.0|\n|          null|  27.0|\n|          null|  32.0|\n+--------------+------+\nonly showing top 20 rows\n\n",
          "name": "stdout"
        }
      ]
    },
    {
      "metadata": {
        "trusted": true
      },
      "cell_type": "code",
      "source": "c.filter(c['Country/Region']=='India').show()",
      "execution_count": 34,
      "outputs": [
        {
          "output_type": "stream",
          "text": "+----+---------------+--------------+--------------+-------------------+---------+------+---------+-----+\n| SNo|ObservationDate|Province/State|Country/Region|        Last Update|Confirmed|Deaths|Recovered|total|\n+----+---------------+--------------+--------------+-------------------+---------+------+---------+-----+\n| 431|     01/30/2020|          null|         India|      1/30/20 16:00|      1.0|   0.0|      0.0|  1.0|\n| 492|     01/31/2020|          null|         India|    1/31/2020 23:59|      1.0|   0.0|      0.0|  1.0|\n| 548|     02/01/2020|          null|         India|     1/31/2020 8:15|      1.0|   0.0|      0.0|  1.0|\n| 608|     02/02/2020|          null|         India|2020-02-02T06:03:08|      2.0|   0.0|      0.0|  2.0|\n| 673|     02/03/2020|          null|         India|2020-02-03T21:43:02|      3.0|   0.0|      0.0|  3.0|\n| 741|     02/04/2020|          null|         India|2020-02-03T21:43:02|      3.0|   0.0|      0.0|  3.0|\n| 811|     02/05/2020|          null|         India|2020-02-03T21:43:02|      3.0|   0.0|      0.0|  3.0|\n| 882|     02/06/2020|          null|         India|2020-02-03T21:43:02|      3.0|   0.0|      0.0|  3.0|\n| 955|     02/07/2020|          null|         India|2020-02-03T21:43:02|      3.0|   0.0|      0.0|  3.0|\n|1027|     02/08/2020|          null|         India|2020-02-03T21:43:02|      3.0|   0.0|      0.0|  3.0|\n|1099|     02/09/2020|          null|         India|2020-02-03T21:43:02|      3.0|   0.0|      0.0|  3.0|\n|1172|     02/10/2020|          null|         India|2020-02-03T21:43:02|      3.0|   0.0|      0.0|  3.0|\n|1244|     02/11/2020|          null|         India|2020-02-03T21:43:02|      3.0|   0.0|      0.0|  3.0|\n|1317|     02/12/2020|          null|         India|2020-02-03T21:43:02|      3.0|   0.0|      0.0|  3.0|\n|1390|     02/13/2020|          null|         India|2020-02-13T18:53:02|      3.0|   0.0|      0.0|  3.0|\n|1464|     02/14/2020|          null|         India|2020-02-13T18:53:02|      3.0|   0.0|      0.0|  3.0|\n|1539|     02/15/2020|          null|         India|2020-02-13T18:53:02|      3.0|   0.0|      0.0|  3.0|\n|1614|     02/16/2020|          null|         India|2020-02-16T07:43:02|      3.0|   0.0|      3.0|  6.0|\n|1689|     02/17/2020|          null|         India|2020-02-16T07:43:02|      3.0|   0.0|      3.0|  6.0|\n|1764|     02/18/2020|          null|         India|2020-02-16T07:43:02|      3.0|   0.0|      3.0|  6.0|\n+----+---------------+--------------+--------------+-------------------+---------+------+---------+-----+\nonly showing top 20 rows\n\n",
          "name": "stdout"
        }
      ]
    },
    {
      "metadata": {
        "trusted": true
      },
      "cell_type": "code",
      "source": "death_ratio_per_total_case = (c.Deaths/c.total).alias('death_ratio_per_total_case')\nratio1 = c.select('Country/Region',death_ratio_per_total_case)",
      "execution_count": 35,
      "outputs": []
    },
    {
      "metadata": {
        "trusted": true
      },
      "cell_type": "code",
      "source": "ratio1.show()",
      "execution_count": 36,
      "outputs": [
        {
          "output_type": "stream",
          "text": "+--------------+--------------------------+\n|Country/Region|death_ratio_per_total_case|\n+--------------+--------------------------+\n|Mainland China|                       0.0|\n|Mainland China|                       0.0|\n|Mainland China|                       0.0|\n|Mainland China|                       0.0|\n|Mainland China|                      null|\n|Mainland China|                       0.0|\n|Mainland China|                       0.0|\n|Mainland China|                       0.0|\n|Mainland China|                       0.0|\n|Mainland China|                       0.0|\n|Mainland China|                      null|\n|Mainland China|                       0.0|\n|     Hong Kong|                      null|\n|Mainland China|      0.034764826175869123|\n|Mainland China|                       0.0|\n|Mainland China|                      null|\n|Mainland China|                       0.0|\n|Mainland China|                       0.0|\n|Mainland China|                      null|\n|Mainland China|                       0.0|\n+--------------+--------------------------+\nonly showing top 20 rows\n\n",
          "name": "stdout"
        }
      ]
    },
    {
      "metadata": {
        "trusted": true
      },
      "cell_type": "code",
      "source": "ratio2 = c.selectExpr('ObservationDate','Deaths/total as death_ratio')\nratio2.show()",
      "execution_count": 44,
      "outputs": [
        {
          "output_type": "stream",
          "text": "+---------------+--------------------+\n|ObservationDate|         death_ratio|\n+---------------+--------------------+\n|     01/22/2020|                 0.0|\n|     01/22/2020|                 0.0|\n|     01/22/2020|                 0.0|\n|     01/22/2020|                 0.0|\n|     01/22/2020|                null|\n|     01/22/2020|                 0.0|\n|     01/22/2020|                 0.0|\n|     01/22/2020|                 0.0|\n|     01/22/2020|                 0.0|\n|     01/22/2020|                 0.0|\n|     01/22/2020|                null|\n|     01/22/2020|                 0.0|\n|     01/22/2020|                null|\n|     01/22/2020|0.034764826175869123|\n|     01/22/2020|                 0.0|\n|     01/22/2020|                null|\n|     01/22/2020|                 0.0|\n|     01/22/2020|                 0.0|\n|     01/22/2020|                null|\n|     01/22/2020|                 0.0|\n+---------------+--------------------+\nonly showing top 20 rows\n\n",
          "name": "stdout"
        }
      ]
    },
    {
      "metadata": {
        "trusted": true
      },
      "cell_type": "code",
      "source": "ratio2.groupBy().max('death_ratio').show()",
      "execution_count": 50,
      "outputs": [
        {
          "output_type": "stream",
          "text": "+----------------+\n|max(death_ratio)|\n+----------------+\n|             1.0|\n+----------------+\n\n",
          "name": "stdout"
        }
      ]
    },
    {
      "metadata": {
        "trusted": true
      },
      "cell_type": "code",
      "source": "c.groupBy('Country/Region').sum('total').show()",
      "execution_count": 54,
      "outputs": [
        {
          "output_type": "stream",
          "text": "+--------------+----------+\n|Country/Region|sum(total)|\n+--------------+----------+\n|          Chad|    1152.0|\n|        Russia| 1377330.0|\n|      Paraguay|    7525.0|\n| North Ireland|       1.0|\n|         Yemen|      50.0|\n|       Senegal|   20785.0|\n|        Sweden|  503124.0|\n|    Cabo Verde|    1681.0|\n|        Guyana|    2276.0|\n|   Philippines|  209944.0|\n|        Jersey|       6.0|\n|       Eritrea|    1298.0|\n|         Burma|    2940.0|\n|      Djibouti|   22892.0|\n|     Singapore|  245762.0|\n|      Malaysia|  266550.0|\n|          Fiji|     643.0|\n|        Turkey| 2764353.0|\n|        Malawi|     686.0|\n|Western Sahara|     193.0|\n+--------------+----------+\nonly showing top 20 rows\n\n",
          "name": "stdout"
        }
      ]
    },
    {
      "metadata": {
        "trusted": true
      },
      "cell_type": "code",
      "source": "c.groupBy('ObservationDate').count().show()",
      "execution_count": 59,
      "outputs": [
        {
          "output_type": "stream",
          "text": "+---------------+-----+\n|ObservationDate|count|\n+---------------+-----+\n|     02/28/2020|  114|\n|     03/22/2020|  298|\n|     04/12/2020|  320|\n|     02/11/2020|   73|\n|     04/01/2020|  313|\n|     04/08/2020|  320|\n|     04/04/2020|  316|\n|     04/27/2020|  321|\n|     04/29/2020|  321|\n|     04/14/2020|  320|\n|     01/24/2020|   41|\n|     02/25/2020|   94|\n|     04/11/2020|  321|\n|     03/16/2020|  272|\n|     04/21/2020|  320|\n|     02/15/2020|   75|\n|     02/13/2020|   74|\n|     03/10/2020|  206|\n|     03/12/2020|  218|\n|     02/18/2020|   75|\n+---------------+-----+\nonly showing top 20 rows\n\n",
          "name": "stdout"
        }
      ]
    },
    {
      "metadata": {
        "trusted": true
      },
      "cell_type": "code",
      "source": "c.groupBy('Country/Region').avg('total').show()",
      "execution_count": 60,
      "outputs": [
        {
          "output_type": "stream",
          "text": "+--------------+------------------+\n|Country/Region|        avg(total)|\n+--------------+------------------+\n|          Chad|26.181818181818183|\n|        Russia|14970.978260869566|\n|      Paraguay| 136.8181818181818|\n| North Ireland|               1.0|\n|         Yemen| 2.272727272727273|\n|       Senegal|340.73770491803276|\n|        Sweden| 5468.739130434783|\n|    Cabo Verde|39.093023255813954|\n|        Guyana|44.627450980392155|\n|   Philippines| 2233.446808510638|\n|        Jersey|              0.75|\n|       Eritrea|30.904761904761905|\n|         Burma| 81.66666666666667|\n|      Djibouti| 508.7111111111111|\n|     Singapore|           2457.62|\n|      Malaysia|2692.4242424242425|\n|          Fiji|14.613636363636363|\n|        Turkey| 53160.63461538462|\n|        Malawi|22.866666666666667|\n|Western Sahara| 7.148148148148148|\n+--------------+------------------+\nonly showing top 20 rows\n\n",
          "name": "stdout"
        }
      ]
    },
    {
      "metadata": {
        "trusted": true
      },
      "cell_type": "code",
      "source": "import pyspark.sql.functions as F\nby_country = c.groupBy('Country/Region')\nby_country.avg('total').show()\nby_country.agg(F.stddev('total')).show()",
      "execution_count": 62,
      "outputs": [
        {
          "output_type": "stream",
          "text": "+--------------+------------------+\n|Country/Region|        avg(total)|\n+--------------+------------------+\n|          Chad|26.181818181818183|\n|        Russia|14970.978260869566|\n|      Paraguay| 136.8181818181818|\n| North Ireland|               1.0|\n|         Yemen| 2.272727272727273|\n|       Senegal|340.73770491803276|\n|        Sweden| 5468.739130434783|\n|    Cabo Verde|39.093023255813954|\n|        Guyana|44.627450980392155|\n|   Philippines| 2233.446808510638|\n|        Jersey|              0.75|\n|       Eritrea|30.904761904761905|\n|         Burma| 81.66666666666667|\n|      Djibouti| 508.7111111111111|\n|     Singapore|           2457.62|\n|      Malaysia|2692.4242424242425|\n|          Fiji|14.613636363636363|\n|        Turkey| 53160.63461538462|\n|        Malawi|22.866666666666667|\n|Western Sahara| 7.148148148148148|\n+--------------+------------------+\nonly showing top 20 rows\n\n+--------------+------------------+\n|Country/Region|stddev_samp(total)|\n+--------------+------------------+\n|          Chad| 28.26886916838374|\n|        Russia|30616.316084971862|\n|      Paraguay|125.37131382404164|\n| North Ireland|               NaN|\n|         Yemen| 2.675849988353824|\n|       Senegal|  367.187504400651|\n|        Sweden| 7602.809367782911|\n|    Cabo Verde| 43.50085601428594|\n|        Guyana| 36.35819620625519|\n|   Philippines| 3232.455844626934|\n|        Jersey|1.0350983390135313|\n|       Eritrea|18.553560599452002|\n|         Burma| 64.05622530246377|\n|      Djibouti| 606.1782524450822|\n|     Singapore| 4615.477085072385|\n|      Malaysia| 3575.427121882937|\n|          Fiji| 9.628484652420791|\n|        Turkey| 56864.86521364345|\n|        Malawi|15.162870561940471|\n|Western Sahara| 2.891681753205799|\n+--------------+------------------+\nonly showing top 20 rows\n\n",
          "name": "stdout"
        }
      ]
    },
    {
      "metadata": {
        "trusted": true
      },
      "cell_type": "code",
      "source": "c.describe()",
      "execution_count": 63,
      "outputs": [
        {
          "output_type": "execute_result",
          "execution_count": 63,
          "data": {
            "text/plain": "DataFrame[summary: string, SNo: string, ObservationDate: string, Province/State: string, Country/Region: string, Last Update: string, Confirmed: string, Deaths: string, Recovered: string, total: string]"
          },
          "metadata": {}
        }
      ]
    },
    {
      "metadata": {
        "trusted": true
      },
      "cell_type": "code",
      "source": "",
      "execution_count": 66,
      "outputs": []
    },
    {
      "metadata": {
        "trusted": true
      },
      "cell_type": "code",
      "source": "",
      "execution_count": null,
      "outputs": []
    },
    {
      "metadata": {
        "trusted": true
      },
      "cell_type": "code",
      "source": "",
      "execution_count": null,
      "outputs": []
    },
    {
      "metadata": {
        "trusted": true
      },
      "cell_type": "code",
      "source": "",
      "execution_count": null,
      "outputs": []
    }
  ],
  "metadata": {
    "kernelspec": {
      "name": "python36",
      "display_name": "Python 3.6",
      "language": "python"
    },
    "language_info": {
      "mimetype": "text/x-python",
      "nbconvert_exporter": "python",
      "name": "python",
      "pygments_lexer": "ipython3",
      "version": "3.6.6",
      "file_extension": ".py",
      "codemirror_mode": {
        "version": 3,
        "name": "ipython"
      }
    }
  },
  "nbformat": 4,
  "nbformat_minor": 2
}